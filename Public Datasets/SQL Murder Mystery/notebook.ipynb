{
 "cells": [
  {
   "cell_type": "code",
   "execution_count": 1,
   "metadata": {},
   "outputs": [],
   "source": [
    "import pandas as pd\n",
    "import sqlite3 as sql"
   ]
  },
  {
   "cell_type": "code",
   "execution_count": 2,
   "metadata": {},
   "outputs": [],
   "source": [
    "con=sql.connect('sql-murder-mystery.db')"
   ]
  },
  {
   "cell_type": "code",
   "execution_count": 3,
   "metadata": {},
   "outputs": [
    {
     "data": {
      "application/vnd.microsoft.datawrangler.viewer.v0+json": {
       "columns": [
        {
         "name": "index",
         "rawType": "int64",
         "type": "integer"
        },
        {
         "name": "date",
         "rawType": "int64",
         "type": "integer"
        },
        {
         "name": "type",
         "rawType": "object",
         "type": "string"
        },
        {
         "name": "description",
         "rawType": "object",
         "type": "string"
        },
        {
         "name": "city",
         "rawType": "object",
         "type": "string"
        }
       ],
       "conversionMethod": "pd.DataFrame",
       "ref": "625b3ab7-a62b-4781-ba9a-9003b9048bc4",
       "rows": [
        [
         "0",
         "20170712",
         "theft",
         "A lone hunter stalks the night, firing arrows into the Darkness.\n            There is no hiding, no escape. In the distance, the beast\n            falters, tethered to the void. The killing blow comes without\n            hesitation, without mercy.",
         "SQL City"
        ],
        [
         "1",
         "20170820",
         "arson",
         "Wield the Hammer of Sol with honor, Titan, it is a thing of\n            legend, both past and future.",
         "SQL City"
        ],
        [
         "2",
         "20171110",
         "robbery",
         "The Gjallarhorn shoulder-mounted rocket system was forged from\n            the armor of Guardians who fell at the Twilight Gap. Gifted\n            to the survivors of that terrible battle, the Gjallarhorn\n            is seen as a symbol of honor and survival.",
         "SQL City"
        ],
        [
         "3",
         "20180103",
         "bribery",
         "Apparently, Cayde thought it necessary to expose this extremely\n            rare vegetable to a Hive summoning ritual.",
         "SQL City"
        ],
        [
         "4",
         "20180115",
         "assault",
         "Hamilton: Lee, do you yield? Burr: You shot him in the side! Yes he yields!",
         "SQL City"
        ],
        [
         "5",
         "20180115",
         "assault",
         "Report Not Found",
         "SQL City"
        ],
        [
         "6",
         "20180115",
         "murder",
         "Security footage shows that there were 2 witnesses. The first witness lives at the last house on \"Northwestern Dr\". The second witness, named Annabel, lives somewhere on \"Franklin Ave\".",
         "SQL City"
        ],
        [
         "7",
         "20180215",
         "murder",
         "REDACTED REDACTED REDACTED",
         "SQL City"
        ],
        [
         "8",
         "20180215",
         "murder",
         "Someone killed the guard! He took an arrow to the knee!",
         "SQL City"
        ]
       ],
       "shape": {
        "columns": 4,
        "rows": 9
       }
      },
      "text/html": [
       "<div>\n",
       "<style scoped>\n",
       "    .dataframe tbody tr th:only-of-type {\n",
       "        vertical-align: middle;\n",
       "    }\n",
       "\n",
       "    .dataframe tbody tr th {\n",
       "        vertical-align: top;\n",
       "    }\n",
       "\n",
       "    .dataframe thead th {\n",
       "        text-align: right;\n",
       "    }\n",
       "</style>\n",
       "<table border=\"1\" class=\"dataframe\">\n",
       "  <thead>\n",
       "    <tr style=\"text-align: right;\">\n",
       "      <th></th>\n",
       "      <th>date</th>\n",
       "      <th>type</th>\n",
       "      <th>description</th>\n",
       "      <th>city</th>\n",
       "    </tr>\n",
       "  </thead>\n",
       "  <tbody>\n",
       "    <tr>\n",
       "      <th>0</th>\n",
       "      <td>20170712</td>\n",
       "      <td>theft</td>\n",
       "      <td>A lone hunter stalks the night, firing arrows into the Darkness.\\n            There is no hiding, no escape. In the distance, the beast\\n            falters, tethered to the void. The killing blow comes without\\n            hesitation, without mercy.</td>\n",
       "      <td>SQL City</td>\n",
       "    </tr>\n",
       "    <tr>\n",
       "      <th>1</th>\n",
       "      <td>20170820</td>\n",
       "      <td>arson</td>\n",
       "      <td>Wield the Hammer of Sol with honor, Titan, it is a thing of\\n            legend, both past and future.</td>\n",
       "      <td>SQL City</td>\n",
       "    </tr>\n",
       "    <tr>\n",
       "      <th>2</th>\n",
       "      <td>20171110</td>\n",
       "      <td>robbery</td>\n",
       "      <td>The Gjallarhorn shoulder-mounted rocket system was forged from\\n            the armor of Guardians who fell at the Twilight Gap. Gifted\\n            to the survivors of that terrible battle, the Gjallarhorn\\n            is seen as a symbol of honor and survival.</td>\n",
       "      <td>SQL City</td>\n",
       "    </tr>\n",
       "    <tr>\n",
       "      <th>3</th>\n",
       "      <td>20180103</td>\n",
       "      <td>bribery</td>\n",
       "      <td>Apparently, Cayde thought it necessary to expose this extremely\\n            rare vegetable to a Hive summoning ritual.</td>\n",
       "      <td>SQL City</td>\n",
       "    </tr>\n",
       "    <tr>\n",
       "      <th>4</th>\n",
       "      <td>20180115</td>\n",
       "      <td>assault</td>\n",
       "      <td>Hamilton: Lee, do you yield? Burr: You shot him in the side! Yes he yields!</td>\n",
       "      <td>SQL City</td>\n",
       "    </tr>\n",
       "    <tr>\n",
       "      <th>5</th>\n",
       "      <td>20180115</td>\n",
       "      <td>assault</td>\n",
       "      <td>Report Not Found</td>\n",
       "      <td>SQL City</td>\n",
       "    </tr>\n",
       "    <tr>\n",
       "      <th>6</th>\n",
       "      <td>20180115</td>\n",
       "      <td>murder</td>\n",
       "      <td>Security footage shows that there were 2 witnesses. The first witness lives at the last house on \"Northwestern Dr\". The second witness, named Annabel, lives somewhere on \"Franklin Ave\".</td>\n",
       "      <td>SQL City</td>\n",
       "    </tr>\n",
       "    <tr>\n",
       "      <th>7</th>\n",
       "      <td>20180215</td>\n",
       "      <td>murder</td>\n",
       "      <td>REDACTED REDACTED REDACTED</td>\n",
       "      <td>SQL City</td>\n",
       "    </tr>\n",
       "    <tr>\n",
       "      <th>8</th>\n",
       "      <td>20180215</td>\n",
       "      <td>murder</td>\n",
       "      <td>Someone killed the guard! He took an arrow to the knee!</td>\n",
       "      <td>SQL City</td>\n",
       "    </tr>\n",
       "  </tbody>\n",
       "</table>\n",
       "</div>"
      ],
      "text/plain": [
       "       date     type  \\\n",
       "0  20170712    theft   \n",
       "1  20170820    arson   \n",
       "2  20171110  robbery   \n",
       "3  20180103  bribery   \n",
       "4  20180115  assault   \n",
       "5  20180115  assault   \n",
       "6  20180115   murder   \n",
       "7  20180215   murder   \n",
       "8  20180215   murder   \n",
       "\n",
       "                                                                                                                                                                                                                                                              description  \\\n",
       "0              A lone hunter stalks the night, firing arrows into the Darkness.\\n            There is no hiding, no escape. In the distance, the beast\\n            falters, tethered to the void. The killing blow comes without\\n            hesitation, without mercy.   \n",
       "1                                                                                                                                                                  Wield the Hammer of Sol with honor, Titan, it is a thing of\\n            legend, both past and future.   \n",
       "2  The Gjallarhorn shoulder-mounted rocket system was forged from\\n            the armor of Guardians who fell at the Twilight Gap. Gifted\\n            to the survivors of that terrible battle, the Gjallarhorn\\n            is seen as a symbol of honor and survival.   \n",
       "3                                                                                                                                                 Apparently, Cayde thought it necessary to expose this extremely\\n            rare vegetable to a Hive summoning ritual.   \n",
       "4                                                                                                                                                                                             Hamilton: Lee, do you yield? Burr: You shot him in the side! Yes he yields!   \n",
       "5                                                                                                                                                                                                                                                        Report Not Found   \n",
       "6                                                                               Security footage shows that there were 2 witnesses. The first witness lives at the last house on \"Northwestern Dr\". The second witness, named Annabel, lives somewhere on \"Franklin Ave\".   \n",
       "7                                                                                                                                                                                                                                              REDACTED REDACTED REDACTED   \n",
       "8                                                                                                                                                                                                                 Someone killed the guard! He took an arrow to the knee!   \n",
       "\n",
       "       city  \n",
       "0  SQL City  \n",
       "1  SQL City  \n",
       "2  SQL City  \n",
       "3  SQL City  \n",
       "4  SQL City  \n",
       "5  SQL City  \n",
       "6  SQL City  \n",
       "7  SQL City  \n",
       "8  SQL City  "
      ]
     },
     "execution_count": 3,
     "metadata": {},
     "output_type": "execute_result"
    }
   ],
   "source": [
    "query1='''\n",
    "select * from crime_scene_report where city=\"SQL City\"\n",
    "ORDER by date;\n",
    "'''\n",
    "pd.set_option('display.max_colwidth',None)\n",
    "pd.read_sql_query(query1,con)"
   ]
  },
  {
   "cell_type": "code",
   "execution_count": 22,
   "metadata": {},
   "outputs": [
    {
     "data": {
      "application/vnd.microsoft.datawrangler.viewer.v0+json": {
       "columns": [
        {
         "name": "index",
         "rawType": "int64",
         "type": "integer"
        },
        {
         "name": "id",
         "rawType": "int64",
         "type": "integer"
        },
        {
         "name": "name",
         "rawType": "object",
         "type": "string"
        },
        {
         "name": "license_id",
         "rawType": "int64",
         "type": "integer"
        },
        {
         "name": "address_number",
         "rawType": "int64",
         "type": "integer"
        },
        {
         "name": "address_street_name",
         "rawType": "object",
         "type": "string"
        },
        {
         "name": "ssn",
         "rawType": "int64",
         "type": "integer"
        }
       ],
       "conversionMethod": "pd.DataFrame",
       "ref": "f8b8e8ef-263d-4690-89b7-c61f61bdb429",
       "rows": [
        [
         "0",
         "14887",
         "Morty Schapiro",
         "118009",
         "4919",
         "Northwestern Dr",
         "111564949"
        ]
       ],
       "shape": {
        "columns": 6,
        "rows": 1
       }
      },
      "text/html": [
       "<div>\n",
       "<style scoped>\n",
       "    .dataframe tbody tr th:only-of-type {\n",
       "        vertical-align: middle;\n",
       "    }\n",
       "\n",
       "    .dataframe tbody tr th {\n",
       "        vertical-align: top;\n",
       "    }\n",
       "\n",
       "    .dataframe thead th {\n",
       "        text-align: right;\n",
       "    }\n",
       "</style>\n",
       "<table border=\"1\" class=\"dataframe\">\n",
       "  <thead>\n",
       "    <tr style=\"text-align: right;\">\n",
       "      <th></th>\n",
       "      <th>id</th>\n",
       "      <th>name</th>\n",
       "      <th>license_id</th>\n",
       "      <th>address_number</th>\n",
       "      <th>address_street_name</th>\n",
       "      <th>ssn</th>\n",
       "    </tr>\n",
       "  </thead>\n",
       "  <tbody>\n",
       "    <tr>\n",
       "      <th>0</th>\n",
       "      <td>14887</td>\n",
       "      <td>Morty Schapiro</td>\n",
       "      <td>118009</td>\n",
       "      <td>4919</td>\n",
       "      <td>Northwestern Dr</td>\n",
       "      <td>111564949</td>\n",
       "    </tr>\n",
       "  </tbody>\n",
       "</table>\n",
       "</div>"
      ],
      "text/plain": [
       "      id            name  license_id  address_number address_street_name  \\\n",
       "0  14887  Morty Schapiro      118009            4919     Northwestern Dr   \n",
       "\n",
       "         ssn  \n",
       "0  111564949  "
      ]
     },
     "execution_count": 22,
     "metadata": {},
     "output_type": "execute_result"
    }
   ],
   "source": [
    "query2='''\n",
    "select * from person where address_street_name=\"Northwestern Dr\" ORDER by address_number desc \n",
    "'''\n",
    "pd.read_sql_query(query2,con)[:1]"
   ]
  },
  {
   "cell_type": "code",
   "execution_count": 11,
   "metadata": {},
   "outputs": [
    {
     "data": {
      "application/vnd.microsoft.datawrangler.viewer.v0+json": {
       "columns": [
        {
         "name": "index",
         "rawType": "int64",
         "type": "integer"
        },
        {
         "name": "id",
         "rawType": "int64",
         "type": "integer"
        },
        {
         "name": "name",
         "rawType": "object",
         "type": "string"
        },
        {
         "name": "license_id",
         "rawType": "int64",
         "type": "integer"
        },
        {
         "name": "address_number",
         "rawType": "int64",
         "type": "integer"
        },
        {
         "name": "address_street_name",
         "rawType": "object",
         "type": "string"
        },
        {
         "name": "ssn",
         "rawType": "int64",
         "type": "integer"
        }
       ],
       "conversionMethod": "pd.DataFrame",
       "ref": "1a0677e0-5bcd-4d3b-91d8-fd1feed4126a",
       "rows": [
        [
         "0",
         "16371",
         "Annabel Miller",
         "490173",
         "103",
         "Franklin Ave",
         "318771143"
        ]
       ],
       "shape": {
        "columns": 6,
        "rows": 1
       }
      },
      "text/html": [
       "<div>\n",
       "<style scoped>\n",
       "    .dataframe tbody tr th:only-of-type {\n",
       "        vertical-align: middle;\n",
       "    }\n",
       "\n",
       "    .dataframe tbody tr th {\n",
       "        vertical-align: top;\n",
       "    }\n",
       "\n",
       "    .dataframe thead th {\n",
       "        text-align: right;\n",
       "    }\n",
       "</style>\n",
       "<table border=\"1\" class=\"dataframe\">\n",
       "  <thead>\n",
       "    <tr style=\"text-align: right;\">\n",
       "      <th></th>\n",
       "      <th>id</th>\n",
       "      <th>name</th>\n",
       "      <th>license_id</th>\n",
       "      <th>address_number</th>\n",
       "      <th>address_street_name</th>\n",
       "      <th>ssn</th>\n",
       "    </tr>\n",
       "  </thead>\n",
       "  <tbody>\n",
       "    <tr>\n",
       "      <th>0</th>\n",
       "      <td>16371</td>\n",
       "      <td>Annabel Miller</td>\n",
       "      <td>490173</td>\n",
       "      <td>103</td>\n",
       "      <td>Franklin Ave</td>\n",
       "      <td>318771143</td>\n",
       "    </tr>\n",
       "  </tbody>\n",
       "</table>\n",
       "</div>"
      ],
      "text/plain": [
       "      id            name  license_id  address_number address_street_name  \\\n",
       "0  16371  Annabel Miller      490173             103        Franklin Ave   \n",
       "\n",
       "         ssn  \n",
       "0  318771143  "
      ]
     },
     "execution_count": 11,
     "metadata": {},
     "output_type": "execute_result"
    }
   ],
   "source": [
    "query3='''\n",
    "select * from person where address_street_name=\"Franklin Ave\" and name like \"%Annabel%\" ORDER by address_street_name desc \n",
    "'''\n",
    "pd.read_sql_query(query3,con)"
   ]
  },
  {
   "cell_type": "code",
   "execution_count": 24,
   "metadata": {},
   "outputs": [
    {
     "data": {
      "application/vnd.microsoft.datawrangler.viewer.v0+json": {
       "columns": [
        {
         "name": "index",
         "rawType": "int64",
         "type": "integer"
        },
        {
         "name": "person_id",
         "rawType": "int64",
         "type": "integer"
        },
        {
         "name": "transcript",
         "rawType": "object",
         "type": "string"
        }
       ],
       "conversionMethod": "pd.DataFrame",
       "ref": "ddf1f019-c487-416a-84b1-930da2355704",
       "rows": [
        [
         "0",
         "14887",
         "I heard a gunshot and then saw a man run out. He had a \"Get Fit Now Gym\" bag. The membership number on the bag started with \"48Z\". Only gold members have those bags. The man got into a car with a plate that included \"H42W\"."
        ],
        [
         "1",
         "16371",
         "I saw the murder happen, and I recognized the killer from my gym when I was working out last week on January the 9th."
        ]
       ],
       "shape": {
        "columns": 2,
        "rows": 2
       }
      },
      "text/html": [
       "<div>\n",
       "<style scoped>\n",
       "    .dataframe tbody tr th:only-of-type {\n",
       "        vertical-align: middle;\n",
       "    }\n",
       "\n",
       "    .dataframe tbody tr th {\n",
       "        vertical-align: top;\n",
       "    }\n",
       "\n",
       "    .dataframe thead th {\n",
       "        text-align: right;\n",
       "    }\n",
       "</style>\n",
       "<table border=\"1\" class=\"dataframe\">\n",
       "  <thead>\n",
       "    <tr style=\"text-align: right;\">\n",
       "      <th></th>\n",
       "      <th>person_id</th>\n",
       "      <th>transcript</th>\n",
       "    </tr>\n",
       "  </thead>\n",
       "  <tbody>\n",
       "    <tr>\n",
       "      <th>0</th>\n",
       "      <td>14887</td>\n",
       "      <td>I heard a gunshot and then saw a man run out. He had a \"Get Fit Now Gym\" bag. The membership number on the bag started with \"48Z\". Only gold members have those bags. The man got into a car with a plate that included \"H42W\".</td>\n",
       "    </tr>\n",
       "    <tr>\n",
       "      <th>1</th>\n",
       "      <td>16371</td>\n",
       "      <td>I saw the murder happen, and I recognized the killer from my gym when I was working out last week on January the 9th.</td>\n",
       "    </tr>\n",
       "  </tbody>\n",
       "</table>\n",
       "</div>"
      ],
      "text/plain": [
       "   person_id  \\\n",
       "0      14887   \n",
       "1      16371   \n",
       "\n",
       "                                                                                                                                                                                                                        transcript  \n",
       "0  I heard a gunshot and then saw a man run out. He had a \"Get Fit Now Gym\" bag. The membership number on the bag started with \"48Z\". Only gold members have those bags. The man got into a car with a plate that included \"H42W\".  \n",
       "1                                                                                                            I saw the murder happen, and I recognized the killer from my gym when I was working out last week on January the 9th.  "
      ]
     },
     "execution_count": 24,
     "metadata": {},
     "output_type": "execute_result"
    }
   ],
   "source": [
    "query4='''\n",
    "select * from interview where person_id=\"16371\" or person_id=\"14887\" \n",
    "'''\n",
    "pd.read_sql(query4,con)"
   ]
  },
  {
   "cell_type": "code",
   "execution_count": 25,
   "metadata": {},
   "outputs": [
    {
     "data": {
      "application/vnd.microsoft.datawrangler.viewer.v0+json": {
       "columns": [
        {
         "name": "index",
         "rawType": "int64",
         "type": "integer"
        },
        {
         "name": "membership_id",
         "rawType": "object",
         "type": "string"
        },
        {
         "name": "check_in_date",
         "rawType": "int64",
         "type": "integer"
        },
        {
         "name": "check_in_time",
         "rawType": "int64",
         "type": "integer"
        },
        {
         "name": "check_out_time",
         "rawType": "int64",
         "type": "integer"
        }
       ],
       "conversionMethod": "pd.DataFrame",
       "ref": "f9266911-3337-4f7a-a48c-1d401c6df20c",
       "rows": [
        [
         "0",
         "48Z7A",
         "20180109",
         "1600",
         "1730"
        ],
        [
         "1",
         "48Z55",
         "20180109",
         "1530",
         "1700"
        ]
       ],
       "shape": {
        "columns": 4,
        "rows": 2
       }
      },
      "text/html": [
       "<div>\n",
       "<style scoped>\n",
       "    .dataframe tbody tr th:only-of-type {\n",
       "        vertical-align: middle;\n",
       "    }\n",
       "\n",
       "    .dataframe tbody tr th {\n",
       "        vertical-align: top;\n",
       "    }\n",
       "\n",
       "    .dataframe thead th {\n",
       "        text-align: right;\n",
       "    }\n",
       "</style>\n",
       "<table border=\"1\" class=\"dataframe\">\n",
       "  <thead>\n",
       "    <tr style=\"text-align: right;\">\n",
       "      <th></th>\n",
       "      <th>membership_id</th>\n",
       "      <th>check_in_date</th>\n",
       "      <th>check_in_time</th>\n",
       "      <th>check_out_time</th>\n",
       "    </tr>\n",
       "  </thead>\n",
       "  <tbody>\n",
       "    <tr>\n",
       "      <th>0</th>\n",
       "      <td>48Z7A</td>\n",
       "      <td>20180109</td>\n",
       "      <td>1600</td>\n",
       "      <td>1730</td>\n",
       "    </tr>\n",
       "    <tr>\n",
       "      <th>1</th>\n",
       "      <td>48Z55</td>\n",
       "      <td>20180109</td>\n",
       "      <td>1530</td>\n",
       "      <td>1700</td>\n",
       "    </tr>\n",
       "  </tbody>\n",
       "</table>\n",
       "</div>"
      ],
      "text/plain": [
       "  membership_id  check_in_date  check_in_time  check_out_time\n",
       "0         48Z7A       20180109           1600            1730\n",
       "1         48Z55       20180109           1530            1700"
      ]
     },
     "execution_count": 25,
     "metadata": {},
     "output_type": "execute_result"
    }
   ],
   "source": [
    "query5='''\n",
    "select * from get_fit_now_check_in where check_in_date=\"20180109\" and membership_id like \"%48Z%\" ORDER BY check_in_date desc\n",
    "'''\n",
    "pd.read_sql(query5,con)"
   ]
  },
  {
   "cell_type": "code",
   "execution_count": 26,
   "metadata": {},
   "outputs": [
    {
     "data": {
      "application/vnd.microsoft.datawrangler.viewer.v0+json": {
       "columns": [
        {
         "name": "index",
         "rawType": "int64",
         "type": "integer"
        },
        {
         "name": "id",
         "rawType": "object",
         "type": "string"
        },
        {
         "name": "person_id",
         "rawType": "int64",
         "type": "integer"
        },
        {
         "name": "name",
         "rawType": "object",
         "type": "string"
        },
        {
         "name": "membership_start_date",
         "rawType": "int64",
         "type": "integer"
        },
        {
         "name": "membership_status",
         "rawType": "object",
         "type": "string"
        }
       ],
       "conversionMethod": "pd.DataFrame",
       "ref": "b9d274f1-dd42-4826-9457-37eb8833e804",
       "rows": [
        [
         "0",
         "48Z55",
         "67318",
         "Jeremy Bowers",
         "20160101",
         "gold"
        ],
        [
         "1",
         "48Z7A",
         "28819",
         "Joe Germuska",
         "20160305",
         "gold"
        ]
       ],
       "shape": {
        "columns": 5,
        "rows": 2
       }
      },
      "text/html": [
       "<div>\n",
       "<style scoped>\n",
       "    .dataframe tbody tr th:only-of-type {\n",
       "        vertical-align: middle;\n",
       "    }\n",
       "\n",
       "    .dataframe tbody tr th {\n",
       "        vertical-align: top;\n",
       "    }\n",
       "\n",
       "    .dataframe thead th {\n",
       "        text-align: right;\n",
       "    }\n",
       "</style>\n",
       "<table border=\"1\" class=\"dataframe\">\n",
       "  <thead>\n",
       "    <tr style=\"text-align: right;\">\n",
       "      <th></th>\n",
       "      <th>id</th>\n",
       "      <th>person_id</th>\n",
       "      <th>name</th>\n",
       "      <th>membership_start_date</th>\n",
       "      <th>membership_status</th>\n",
       "    </tr>\n",
       "  </thead>\n",
       "  <tbody>\n",
       "    <tr>\n",
       "      <th>0</th>\n",
       "      <td>48Z55</td>\n",
       "      <td>67318</td>\n",
       "      <td>Jeremy Bowers</td>\n",
       "      <td>20160101</td>\n",
       "      <td>gold</td>\n",
       "    </tr>\n",
       "    <tr>\n",
       "      <th>1</th>\n",
       "      <td>48Z7A</td>\n",
       "      <td>28819</td>\n",
       "      <td>Joe Germuska</td>\n",
       "      <td>20160305</td>\n",
       "      <td>gold</td>\n",
       "    </tr>\n",
       "  </tbody>\n",
       "</table>\n",
       "</div>"
      ],
      "text/plain": [
       "      id  person_id           name  membership_start_date membership_status\n",
       "0  48Z55      67318  Jeremy Bowers               20160101              gold\n",
       "1  48Z7A      28819   Joe Germuska               20160305              gold"
      ]
     },
     "execution_count": 26,
     "metadata": {},
     "output_type": "execute_result"
    }
   ],
   "source": [
    "query6='''\n",
    "select * from get_fit_now_member where id=\"48Z7A\" or id=\"48Z55\" ORDER BY membership_status desc\n",
    "'''\n",
    "pd.read_sql_query(query6,con)"
   ]
  },
  {
   "cell_type": "code",
   "execution_count": 27,
   "metadata": {},
   "outputs": [
    {
     "data": {
      "application/vnd.microsoft.datawrangler.viewer.v0+json": {
       "columns": [
        {
         "name": "index",
         "rawType": "int64",
         "type": "integer"
        },
        {
         "name": "id",
         "rawType": "int64",
         "type": "integer"
        },
        {
         "name": "name",
         "rawType": "object",
         "type": "string"
        },
        {
         "name": "license_id",
         "rawType": "int64",
         "type": "integer"
        },
        {
         "name": "address_number",
         "rawType": "int64",
         "type": "integer"
        },
        {
         "name": "address_street_name",
         "rawType": "object",
         "type": "string"
        },
        {
         "name": "ssn",
         "rawType": "int64",
         "type": "integer"
        }
       ],
       "conversionMethod": "pd.DataFrame",
       "ref": "ca2f0f39-dafd-46d8-b96e-72dcca3a0ea1",
       "rows": [
        [
         "0",
         "67318",
         "Jeremy Bowers",
         "423327",
         "530",
         "Washington Pl, Apt 3A",
         "871539279"
        ],
        [
         "1",
         "28819",
         "Joe Germuska",
         "173289",
         "111",
         "Fisk Rd",
         "138909730"
        ]
       ],
       "shape": {
        "columns": 6,
        "rows": 2
       }
      },
      "text/html": [
       "<div>\n",
       "<style scoped>\n",
       "    .dataframe tbody tr th:only-of-type {\n",
       "        vertical-align: middle;\n",
       "    }\n",
       "\n",
       "    .dataframe tbody tr th {\n",
       "        vertical-align: top;\n",
       "    }\n",
       "\n",
       "    .dataframe thead th {\n",
       "        text-align: right;\n",
       "    }\n",
       "</style>\n",
       "<table border=\"1\" class=\"dataframe\">\n",
       "  <thead>\n",
       "    <tr style=\"text-align: right;\">\n",
       "      <th></th>\n",
       "      <th>id</th>\n",
       "      <th>name</th>\n",
       "      <th>license_id</th>\n",
       "      <th>address_number</th>\n",
       "      <th>address_street_name</th>\n",
       "      <th>ssn</th>\n",
       "    </tr>\n",
       "  </thead>\n",
       "  <tbody>\n",
       "    <tr>\n",
       "      <th>0</th>\n",
       "      <td>67318</td>\n",
       "      <td>Jeremy Bowers</td>\n",
       "      <td>423327</td>\n",
       "      <td>530</td>\n",
       "      <td>Washington Pl, Apt 3A</td>\n",
       "      <td>871539279</td>\n",
       "    </tr>\n",
       "    <tr>\n",
       "      <th>1</th>\n",
       "      <td>28819</td>\n",
       "      <td>Joe Germuska</td>\n",
       "      <td>173289</td>\n",
       "      <td>111</td>\n",
       "      <td>Fisk Rd</td>\n",
       "      <td>138909730</td>\n",
       "    </tr>\n",
       "  </tbody>\n",
       "</table>\n",
       "</div>"
      ],
      "text/plain": [
       "      id           name  license_id  address_number    address_street_name  \\\n",
       "0  67318  Jeremy Bowers      423327             530  Washington Pl, Apt 3A   \n",
       "1  28819   Joe Germuska      173289             111                Fisk Rd   \n",
       "\n",
       "         ssn  \n",
       "0  871539279  \n",
       "1  138909730  "
      ]
     },
     "execution_count": 27,
     "metadata": {},
     "output_type": "execute_result"
    }
   ],
   "source": [
    "query7='''\n",
    "select * from person where id=\"67318\" or id=\"28819\" ORDER BY id desc\n",
    "'''\n",
    "pd.read_sql_query(query7,con)"
   ]
  },
  {
   "cell_type": "code",
   "execution_count": 28,
   "metadata": {},
   "outputs": [
    {
     "data": {
      "application/vnd.microsoft.datawrangler.viewer.v0+json": {
       "columns": [
        {
         "name": "index",
         "rawType": "int64",
         "type": "integer"
        },
        {
         "name": "person_id",
         "rawType": "int64",
         "type": "integer"
        },
        {
         "name": "event_id",
         "rawType": "int64",
         "type": "integer"
        },
        {
         "name": "event_name",
         "rawType": "object",
         "type": "string"
        },
        {
         "name": "date",
         "rawType": "int64",
         "type": "integer"
        }
       ],
       "conversionMethod": "pd.DataFrame",
       "ref": "c5486b81-c116-4d16-ae59-18d996d7e831",
       "rows": [
        [
         "0",
         "67318",
         "4719",
         "The Funky Grooves Tour",
         "20180115"
        ],
        [
         "1",
         "67318",
         "1143",
         "SQL Symphony Concert",
         "20171206"
        ]
       ],
       "shape": {
        "columns": 4,
        "rows": 2
       }
      },
      "text/html": [
       "<div>\n",
       "<style scoped>\n",
       "    .dataframe tbody tr th:only-of-type {\n",
       "        vertical-align: middle;\n",
       "    }\n",
       "\n",
       "    .dataframe tbody tr th {\n",
       "        vertical-align: top;\n",
       "    }\n",
       "\n",
       "    .dataframe thead th {\n",
       "        text-align: right;\n",
       "    }\n",
       "</style>\n",
       "<table border=\"1\" class=\"dataframe\">\n",
       "  <thead>\n",
       "    <tr style=\"text-align: right;\">\n",
       "      <th></th>\n",
       "      <th>person_id</th>\n",
       "      <th>event_id</th>\n",
       "      <th>event_name</th>\n",
       "      <th>date</th>\n",
       "    </tr>\n",
       "  </thead>\n",
       "  <tbody>\n",
       "    <tr>\n",
       "      <th>0</th>\n",
       "      <td>67318</td>\n",
       "      <td>4719</td>\n",
       "      <td>The Funky Grooves Tour</td>\n",
       "      <td>20180115</td>\n",
       "    </tr>\n",
       "    <tr>\n",
       "      <th>1</th>\n",
       "      <td>67318</td>\n",
       "      <td>1143</td>\n",
       "      <td>SQL Symphony Concert</td>\n",
       "      <td>20171206</td>\n",
       "    </tr>\n",
       "  </tbody>\n",
       "</table>\n",
       "</div>"
      ],
      "text/plain": [
       "   person_id  event_id              event_name      date\n",
       "0      67318      4719  The Funky Grooves Tour  20180115\n",
       "1      67318      1143    SQL Symphony Concert  20171206"
      ]
     },
     "execution_count": 28,
     "metadata": {},
     "output_type": "execute_result"
    }
   ],
   "source": [
    "query8='''\n",
    "select * from facebook_event_checkin where person_id=\"67318\" or person_id=\"28819\" ORDER BY person_id desc\n",
    "'''\n",
    "pd.read_sql_query(query8,con)"
   ]
  },
  {
   "cell_type": "code",
   "execution_count": 29,
   "metadata": {},
   "outputs": [
    {
     "data": {
      "application/vnd.microsoft.datawrangler.viewer.v0+json": {
       "columns": [
        {
         "name": "index",
         "rawType": "int64",
         "type": "integer"
        },
        {
         "name": "id",
         "rawType": "int64",
         "type": "integer"
        },
        {
         "name": "age",
         "rawType": "int64",
         "type": "integer"
        },
        {
         "name": "height",
         "rawType": "int64",
         "type": "integer"
        },
        {
         "name": "eye_color",
         "rawType": "object",
         "type": "string"
        },
        {
         "name": "hair_color",
         "rawType": "object",
         "type": "string"
        },
        {
         "name": "gender",
         "rawType": "object",
         "type": "string"
        },
        {
         "name": "plate_number",
         "rawType": "object",
         "type": "string"
        },
        {
         "name": "car_make",
         "rawType": "object",
         "type": "string"
        },
        {
         "name": "car_model",
         "rawType": "object",
         "type": "string"
        }
       ],
       "conversionMethod": "pd.DataFrame",
       "ref": "a6fb2e85-6d4b-4f7e-8deb-654fddc27d18",
       "rows": [
        [
         "0",
         "423327",
         "30",
         "70",
         "brown",
         "brown",
         "male",
         "0H42W2",
         "Chevrolet",
         "Spark LS"
        ]
       ],
       "shape": {
        "columns": 9,
        "rows": 1
       }
      },
      "text/html": [
       "<div>\n",
       "<style scoped>\n",
       "    .dataframe tbody tr th:only-of-type {\n",
       "        vertical-align: middle;\n",
       "    }\n",
       "\n",
       "    .dataframe tbody tr th {\n",
       "        vertical-align: top;\n",
       "    }\n",
       "\n",
       "    .dataframe thead th {\n",
       "        text-align: right;\n",
       "    }\n",
       "</style>\n",
       "<table border=\"1\" class=\"dataframe\">\n",
       "  <thead>\n",
       "    <tr style=\"text-align: right;\">\n",
       "      <th></th>\n",
       "      <th>id</th>\n",
       "      <th>age</th>\n",
       "      <th>height</th>\n",
       "      <th>eye_color</th>\n",
       "      <th>hair_color</th>\n",
       "      <th>gender</th>\n",
       "      <th>plate_number</th>\n",
       "      <th>car_make</th>\n",
       "      <th>car_model</th>\n",
       "    </tr>\n",
       "  </thead>\n",
       "  <tbody>\n",
       "    <tr>\n",
       "      <th>0</th>\n",
       "      <td>423327</td>\n",
       "      <td>30</td>\n",
       "      <td>70</td>\n",
       "      <td>brown</td>\n",
       "      <td>brown</td>\n",
       "      <td>male</td>\n",
       "      <td>0H42W2</td>\n",
       "      <td>Chevrolet</td>\n",
       "      <td>Spark LS</td>\n",
       "    </tr>\n",
       "  </tbody>\n",
       "</table>\n",
       "</div>"
      ],
      "text/plain": [
       "       id  age  height eye_color hair_color gender plate_number   car_make  \\\n",
       "0  423327   30      70     brown      brown   male       0H42W2  Chevrolet   \n",
       "\n",
       "  car_model  \n",
       "0  Spark LS  "
      ]
     },
     "execution_count": 29,
     "metadata": {},
     "output_type": "execute_result"
    }
   ],
   "source": [
    "query9='''\n",
    "select * from drivers_license where id=\"423327\" or id=\"173289\" ORDER BY id desc\n",
    "'''\n",
    "pd.read_sql_query(query9,con)"
   ]
  }
 ],
 "metadata": {
  "kernelspec": {
   "display_name": "base",
   "language": "python",
   "name": "python3"
  },
  "language_info": {
   "codemirror_mode": {
    "name": "ipython",
    "version": 3
   },
   "file_extension": ".py",
   "mimetype": "text/x-python",
   "name": "python",
   "nbconvert_exporter": "python",
   "pygments_lexer": "ipython3",
   "version": "3.12.7"
  }
 },
 "nbformat": 4,
 "nbformat_minor": 2
}
